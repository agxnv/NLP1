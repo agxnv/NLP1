{
  "cells": [
    {
      "cell_type": "markdown",
      "metadata": {
        "id": "sZd5yLnnHOK0"
      },
      "source": [
        "<img src=\"https://github.com/hernancontigiani/ceia_memorias_especializacion/raw/master/Figures/logoFIUBA.jpg\" width=\"500\" align=\"center\">\n",
        "\n",
        "\n",
        "# Procesamiento de lenguaje natural\n",
        "## Custom embedddings con Gensim\n",
        "\n"
      ]
    },
    {
      "cell_type": "markdown",
      "metadata": {
        "id": "vA7nqkumo9z9"
      },
      "source": [
        "### TP 2\n",
        "### - Crear sus propios vectores con Gensim basado en lo visto en clase con otro dataset."
      ]
    },
    {
      "cell_type": "code",
      "execution_count": 23,
      "metadata": {
        "id": "lFToQs5FK5uZ",
        "colab": {
          "base_uri": "https://localhost:8080/"
        },
        "outputId": "3b590aa6-0b11-4ed2-82c9-b0c9f7d8d1ac"
      },
      "outputs": [
        {
          "output_type": "stream",
          "name": "stdout",
          "text": [
            "El dataset ya se encuentra descargado\n"
          ]
        },
        {
          "output_type": "stream",
          "name": "stderr",
          "text": [
            "/tmp/ipython-input-4273192447.py:21: ParserWarning:\n",
            "\n",
            "Falling back to the 'python' engine because the 'c' engine does not support regex separators (separators > 1 char and different from '\\s+' are interpreted as regex); you can avoid this warning by specifying engine='python'.\n",
            "\n"
          ]
        },
        {
          "output_type": "execute_result",
          "data": {
            "text/plain": [
              "(218093, 359260)"
            ]
          },
          "metadata": {},
          "execution_count": 23
        }
      ],
      "source": [
        "import pandas as pd\n",
        "import matplotlib.pyplot as plt\n",
        "import seaborn as sns\n",
        "\n",
        "import multiprocessing\n",
        "from gensim.models import Word2Vec\n",
        "\n",
        "\n",
        "import os\n",
        "import platform\n",
        "if os.access('./songs_dataset', os.F_OK) is False:\n",
        "    if os.access('songs_dataset.zip', os.F_OK) is False:\n",
        "        if platform.system() == 'Windows':\n",
        "            !curl https://raw.githubusercontent.com/FIUBA-Posgrado-Inteligencia-Artificial/procesamiento_lenguaje_natural/main/datasets/songs_dataset.zip -o songs_dataset.zip\n",
        "        else:\n",
        "            !wget songs_dataset.zip https://github.com/FIUBA-Posgrado-Inteligencia-Artificial/procesamiento_lenguaje_natural/raw/main/datasets/songs_dataset.zip\n",
        "    !unzip -q songs_dataset.zip\n",
        "else:\n",
        "    print(\"El dataset ya se encuentra descargado\")\n",
        "\n",
        "    df = pd.read_csv('songs_dataset/bob-marley.txt', sep='/n', header=None)\n",
        "\n",
        "from tensorflow.keras.preprocessing.text import text_to_word_sequence\n",
        "\n",
        "sentence_tokens = []\n",
        "for _, row in df[:None].iterrows():\n",
        "    sentence_tokens.append(text_to_word_sequence(row[0]))\n",
        "\n",
        "from gensim.models.callbacks import CallbackAny2Vec\n",
        "w2v_model = Word2Vec(min_count=5,\n",
        "                     window=2,\n",
        "                     vector_size=300,\n",
        "                     negative=20,\n",
        "                     workers=1,\n",
        "                     sg=1)\n",
        "\n",
        "w2v_model.build_vocab(sentence_tokens)\n",
        "\n",
        "w2v_model.train(sentence_tokens,\n",
        "                 total_examples=w2v_model.corpus_count,\n",
        "                 epochs=20,\n",
        "                 compute_loss = True\n",
        "                 )\n"
      ]
    },
    {
      "cell_type": "markdown",
      "source": [
        "### - Probar términos de interés y explicar similitudes en el espacio de embeddings (sacar conclusiones entre palabras similitudes y diferencias)."
      ],
      "metadata": {
        "id": "tiBVCG6nE7r1"
      }
    },
    {
      "cell_type": "code",
      "execution_count": 47,
      "metadata": {
        "id": "6cHN9xGLuPEm",
        "colab": {
          "base_uri": "https://localhost:8080/"
        },
        "outputId": "2c68d00c-b884-4783-d840-95b776be0bf0"
      },
      "outputs": [
        {
          "output_type": "stream",
          "name": "stdout",
          "text": [
            "Palabras que mas se relacionan con 'baby' \n",
            "\n"
          ]
        },
        {
          "output_type": "execute_result",
          "data": {
            "text/plain": [
              "[('tears', 0.9265539646148682),\n",
              " ('woman', 0.9244767427444458),\n",
              " ('fowl', 0.9166396260261536),\n",
              " ('cry', 0.9063509702682495),\n",
              " ('call', 0.882744550704956),\n",
              " ('shed', 0.8665948510169983),\n",
              " ('philosophy', 0.861731231212616),\n",
              " ('matter', 0.8615086078643799),\n",
              " ('nice', 0.8439921736717224),\n",
              " (\"ain't\", 0.8383564949035645)]"
            ]
          },
          "metadata": {},
          "execution_count": 47
        }
      ],
      "source": [
        "print(\"Palabras que mas se relacionan con 'baby' \\n\")\n",
        "w2v_model.wv.most_similar(positive=[\"no\"], topn=10)"
      ]
    },
    {
      "cell_type": "code",
      "execution_count": 48,
      "metadata": {
        "id": "47HiU5gdkdMq",
        "colab": {
          "base_uri": "https://localhost:8080/"
        },
        "outputId": "cdc404f0-e6ee-4663-9cf4-db84380e19b1"
      },
      "outputs": [
        {
          "output_type": "stream",
          "name": "stdout",
          "text": [
            "Palabras que mas se relacionan con 'woman' \n",
            "\n"
          ]
        },
        {
          "output_type": "execute_result",
          "data": {
            "text/plain": [
              "[('cry', 0.9774102568626404),\n",
              " ('fowl', 0.9347646832466125),\n",
              " ('no', 0.9244766235351562),\n",
              " ('tears', 0.916095495223999),\n",
              " ('call', 0.8935620784759521),\n",
              " ('matter', 0.876559317111969),\n",
              " (\"ain't\", 0.8528661727905273),\n",
              " ('sunshine', 0.8423731923103333),\n",
              " ('shed', 0.8393506407737732),\n",
              " ('nice', 0.8340551853179932)]"
            ]
          },
          "metadata": {},
          "execution_count": 48
        }
      ],
      "source": [
        "print(\"Palabras que mas se relacionan con 'woman' \\n\")\n",
        "w2v_model.wv.most_similar(positive=[\"woman\"], topn=10)\n"
      ]
    },
    {
      "cell_type": "code",
      "execution_count": 49,
      "metadata": {
        "id": "DT4Rvno2mD65",
        "colab": {
          "base_uri": "https://localhost:8080/"
        },
        "outputId": "5db7a06a-d4e9-4e14-bae1-93f8853fb3e8"
      },
      "outputs": [
        {
          "output_type": "stream",
          "name": "stdout",
          "text": [
            "Palabras que menos se relacionan con 'love' \n",
            "\n"
          ]
        },
        {
          "output_type": "execute_result",
          "data": {
            "text/plain": [
              "[('nobody', -0.16903094947338104),\n",
              " ('baby', -0.1922057718038559),\n",
              " ('love', -0.2094326764345169),\n",
              " ('rights', -0.21247272193431854),\n",
              " (\"can't\", -0.22369955480098724),\n",
              " ('give', -0.23054803907871246),\n",
              " ('up', -0.23286142945289612),\n",
              " ('for', -0.23383262753486633),\n",
              " ('your', -0.24442517757415771),\n",
              " ('come', -0.24734511971473694)]"
            ]
          },
          "metadata": {},
          "execution_count": 49
        }
      ],
      "source": [
        "print(\"Palabras que menos se relacionan con 'love' \\n\")\n",
        "w2v_model.wv.most_similar(negative=[\"paradise\"], topn=10)"
      ]
    },
    {
      "cell_type": "code",
      "execution_count": 46,
      "metadata": {
        "id": "XPLDPgzBmQXt",
        "colab": {
          "base_uri": "https://localhost:8080/"
        },
        "outputId": "a40284b5-146e-4e1e-8e68-a77009c6ab6d"
      },
      "outputs": [
        {
          "output_type": "stream",
          "name": "stdout",
          "text": [
            "Palabras que menos se relacionan con 'holy' \n",
            "\n"
          ]
        },
        {
          "output_type": "execute_result",
          "data": {
            "text/plain": [
              "[(\"jammin'\", -0.21211275458335876),\n",
              " ('music', -0.21300330758094788),\n",
              " ('too', -0.22456522285938263),\n",
              " ('think', -0.2274266630411148),\n",
              " ('in', -0.22967185080051422),\n",
              " ('jam', -0.23214535415172577),\n",
              " ('jamaica', -0.23959660530090332),\n",
              " (\"we're\", -0.24005140364170074),\n",
              " ('youths', -0.24022968113422394),\n",
              " ('world', -0.2416675090789795)]"
            ]
          },
          "metadata": {},
          "execution_count": 46
        }
      ],
      "source": [
        "print(\"Palabras que menos se relacionan con 'holy' \\n\")\n",
        "w2v_model.wv.most_similar(negative=[\"cry\"], topn=10)\n"
      ]
    },
    {
      "cell_type": "markdown",
      "source": [
        "Los embeddings muestran que algunas palabras se relacionan conceptualmente (ejemplo: \"love\" se opone semánticamente a \"hypocrites\"). Otras asociaciones como \"baby\" y \"woman\" surgen simplemente porque Bob Marley las usa frecuentemente juntas en las mismas líneas de sus canciones. El modelo captura tanto relaciones de significado como patrones de co-ocurrencia textual específicos del vocabulario."
      ],
      "metadata": {
        "id": "YARULDweHdI7"
      }
    },
    {
      "cell_type": "markdown",
      "metadata": {
        "id": "_g8UVWe6lFmh"
      },
      "source": [
        "### 5 - Visualizar agrupación de vectores"
      ]
    },
    {
      "cell_type": "code",
      "execution_count": 57,
      "metadata": {
        "id": "pDxEVXAivjr9",
        "colab": {
          "base_uri": "https://localhost:8080/",
          "height": 542
        },
        "outputId": "698a26ac-b9d9-4232-8ff1-a8f3f10be93f"
      },
      "outputs": [
        {
          "output_type": "display_data",
          "data": {
            "text/html": [
              "<html>\n",
              "<head><meta charset=\"utf-8\" /></head>\n",
              "<body>\n",
              "    <div>            <script src=\"https://cdnjs.cloudflare.com/ajax/libs/mathjax/2.7.5/MathJax.js?config=TeX-AMS-MML_SVG\"></script><script type=\"text/javascript\">if (window.MathJax && window.MathJax.Hub && window.MathJax.Hub.Config) {window.MathJax.Hub.Config({SVG: {font: \"STIX-Web\"}});}</script>                <script type=\"text/javascript\">window.PlotlyConfig = {MathJaxConfig: 'local'};</script>\n",
              "        <script charset=\"utf-8\" src=\"https://cdn.plot.ly/plotly-2.35.2.min.js\"></script>                <div id=\"1841e817-250b-46f7-93ba-db8e66af5fd2\" class=\"plotly-graph-div\" style=\"height:525px; width:100%;\"></div>            <script type=\"text/javascript\">                                    window.PLOTLYENV=window.PLOTLYENV || {};                                    if (document.getElementById(\"1841e817-250b-46f7-93ba-db8e66af5fd2\")) {                    Plotly.newPlot(                        \"1841e817-250b-46f7-93ba-db8e66af5fd2\",                        [{\"hovertemplate\":\"x=%{x}\\u003cbr\\u003ey=%{y}\\u003cbr\\u003ez=%{z}\\u003cbr\\u003etext=%{text}\\u003cextra\\u003e\\u003c\\u002fextra\\u003e\",\"legendgroup\":\"\",\"marker\":{\"color\":\"#636efa\",\"symbol\":\"circle\",\"size\":2},\"mode\":\"markers+text\",\"name\":\"\",\"scene\":\"scene\",\"showlegend\":false,\"text\":[\"the\",\"you\",\"i\",\"a\",\"to\",\"and\",\"no\",\"it\",\"in\",\"oh\",\"me\",\"be\",\"love\",\"is\",\"of\",\"yeah\",\"don't\",\"so\",\"all\",\"we\",\"your\",\"my\",\"on\",\"for\",\"up\",\"now\",\"down\",\"right\",\"one\",\"say\",\"this\",\"know\",\"do\",\"gonna\",\"but\",\"they\",\"when\",\"got\",\"jah\",\"that\",\"de\",\"i'm\",\"get\",\"come\",\"baby\",\"we're\",\"will\",\"give\",\"it's\",\"from\",\"people\",\"like\",\"there\",\"little\",\"jammin'\",\"thing\",\"coming\",\"with\",\"said\",\"what\",\"wanna\",\"can\",\"every\",\"feel\",\"'cause\",\"them\",\"was\",\"man\",\"want\",\"let\",\"can't\",\"ooh\",\"na\",\"try\",\"go\",\"just\",\"see\",\"could\",\"more\",\"lord\",\"are\",\"take\",\"worry\",\"stand\",\"through\",\"heart\",\"dread\",\"time\",\"good\",\"about\",\"easy\",\"life\",\"simmer\",\"some\",\"together\",\"never\",\"much\",\"woman\",\"yoy\",\"stir\",\"won't\",\"need\",\"have\",\"day\",\"ya\",\"back\",\"then\",\"hammer\",\"uh\",\"she\",\"soul\",\"'pon\",\"if\",\"cry\",\"forever\",\"move\",\"town\",\"whatcha\",\"rock\",\"bad\",\"doo\",\"youths\",\"very\",\"away\",\"we'll\",\"wo\",\"children\",\"rammer\",\"race\",\"heathen\",\"i'll\",\"rebel\",\"wall\",\"he\",\"wop\",\"sweet\",\"you're\",\"hear\",\"why\",\"not\",\"world\",\"tell\",\"loved\",\"our\",\"loving\",\"here\",\"boys\",\"ganja\",\"where\",\"bomb\",\"long\",\"i've\",\"us\",\"movement\",\"cok\",\"fire\",\"choo\",\"that's\",\"let's\",\"something\",\"make\",\"carry\",\"rat\",\"fight\",\"would\",\"who\",\"africa\",\"ain't\",\"too\",\"woo\",\"yo\",\"how\",\"gone\",\"look\",\"their\",\"am\",\"skanking\",\"jamaica\",\"cluck\",\"oo\",\"music\",\"darling\",\"well\",\"by\",\"trench\",\"unite\",\"things\",\"way\",\"while\",\"woe\",\"singin'\",\"you've\",\"keep\",\"at\",\"place\",\"war\",\"talk\",\"exodus\",\"hit\",\"as\"],\"x\":[-17.82863,22.863161,25.086315,-10.515555,18.815615,17.782503,-29.573658,-34.242058,-10.090942,-26.81043,11.301943,29.054552,16.147413,1.8187091,-27.83124,-15.023886,7.515512,13.603173,25.92932,9.589806,-13.917342,20.14636,6.152103,-19.290304,-11.348197,30.85491,-18.432327,25.259752,-28.323946,25.957457,4.4800224,19.326624,7.283858,20.976223,-16.485401,42.862576,-7.230841,13.394642,-34.777386,40.955467,-12.101924,32.04386,-4.1620097,3.183867,-18.085333,1.2379616,18.111237,8.024228,13.2280855,-14.50065,-32.557594,46.45512,26.40547,-17.149855,4.9576163,10.440206,-3.6483579,-3.7606049,35.26866,5.732797,-0.13108411,9.754243,24.423325,26.085527,26.483383,12.917776,-18.661108,11.497137,17.08993,13.515664,-31.510893,21.551607,-3.4953647,7.939449,18.528307,-2.7499225,-1.8317186,35.171383,-36.519882,3.9599395,39.699173,-35.161053,9.221709,-11.592476,-12.041716,-20.692245,-20.270166,31.255758,33.97697,14.977008,-39.20366,-4.715467,-23.27837,43.20173,2.0598252,20.449053,9.791475,-31.050053,-36.915882,-22.128313,-1.3315414,-1.8165994,36.333607,29.34066,-18.580833,-16.798786,20.644527,3.0638685,25.061886,23.817726,-48.948364,-19.960598,25.663204,-29.434103,29.31387,-42.120995,12.751227,10.881152,16.254375,14.10993,5.284382,-40.249718,3.8762035,35.878498,25.523476,-21.627821,-31.79247,-3.709536,-0.65544426,-22.444777,22.908318,-43.993526,-17.217232,-13.786,1.4356128,-33.534687,32.056942,1.3550953,3.7447925,29.776922,3.1456614,-0.4020789,31.235466,-12.01175,30.468622,25.397055,10.793479,-5.521196,14.184911,-23.595278,27.902655,7.281478,-24.685034,-35.881527,-10.403447,-1.2524898,-3.2236965,23.486195,-2.3564463,32.07958,22.817558,11.331514,-2.9981458,-3.8602142,20.993456,9.30027,-18.579582,-15.718917,-13.85047,23.970947,-34.010612,34.646523,-16.508394,-37.902206,6.0238395,27.775085,-36.40424,-6.17331,47.33721,-3.1544964,-4.235284,-31.69941,11.8577385,-18.508615,16.719305,-20.438698,15.964058,3.036786,-2.4245718,-36.18459,9.4706545,17.15274,7.8665304,-40.285694,13.3907795,-3.954498,-29.844454,-34.06382,-0.6648289,-6.3542476],\"y\":[6.0588408,-19.567099,-2.9479625,-42.098984,-1.7196932,17.566265,5.583493,-17.7598,24.195654,-11.180999,-35.328014,17.525774,6.8708196,2.9234462,17.761898,-2.9269705,21.554693,-8.104506,25.41456,-18.95696,13.078524,8.247935,-11.991014,18.74432,26.82821,-4.846837,-20.99297,19.169739,14.431006,1.9769223,14.567016,-17.393673,37.43341,23.159487,-33.128033,-3.4991326,-6.7219114,-1.6776317,25.450014,-11.189802,11.687796,-12.694831,32.619534,-34.841167,-35.820004,34.254276,-13.262427,18.857677,4.999581,28.79256,22.363516,11.465042,-34.71463,30.497019,37.343685,18.892548,34.145966,-26.233515,-21.66927,3.1577713,24.466599,-16.995245,-1.594727,16.981297,3.9757578,-44.86091,41.907562,35.23414,-10.626389,-31.483696,-34.47388,36.278584,2.1375008,-33.633804,-32.13947,-28.458765,-21.89994,8.621691,6.5403776,5.6420274,0.7305176,-7.8954396,29.824492,26.956278,-7.5674343,16.475573,4.7559867,-18.41915,15.189154,26.796652,-12.652695,11.861894,-18.098465,2.6420639,37.425755,-21.617899,-14.759298,-0.22919533,23.831007,22.452614,-32.841125,-47.94111,4.753633,-5.426706,-21.377203,6.895752,-27.02835,-47.93523,-3.816458,38.80528,4.6619368,14.658637,-15.443267,3.9960048,23.016415,23.786777,22.944353,35.21481,23.786207,29.910326,40.970177,-31.410627,39.005287,31.204142,22.452322,-26.213327,3.4502115,-49.331306,2.2310746,9.648619,-28.176144,-0.32157332,9.682607,42.029808,44.74171,10.721459,-22.422832,-16.447905,-31.75786,-18.195284,-12.540387,-23.638218,10.75076,17.106033,20.202843,5.770684,32.061993,24.619438,-23.12587,-25.702335,-19.495,-0.006302392,28.783699,19.551767,-21.035017,11.062966,43.442356,33.94166,37.594707,4.6270785,-24.51866,-17.893232,-0.12687635,28.408112,-20.67903,-13.097498,36.943336,2.7678208,-32.989872,35.21952,28.9049,7.089754,-12.054783,-18.38198,-18.193193,3.287462,-16.581278,31.192532,2.0134575,27.457514,-32.471523,-10.570641,6.4302993,-1.7139995,21.342808,33.594284,-16.194805,-1.7772044,-18.642849,26.520203,26.107456,3.4208193,-5.187399,-12.810734,-27.118162,5.8076105,10.765667,17.759848,-30.028414,-1.9664636],\"z\":[-19.136576,12.33593,25.412415,-4.3099575,18.172518,27.450397,23.744814,8.206821,-18.825016,-2.2229795,-21.828321,4.622265,25.324541,-28.984018,-9.551316,-36.907715,19.399496,-36.28777,12.702505,18.587036,18.789999,34.02235,38.450493,13.168286,16.90594,14.782784,23.534002,14.702863,-22.066711,9.800406,-27.859192,21.741907,21.910105,3.5079799,11.18577,-10.5356865,26.9018,34.969246,-15.605903,4.6804824,-42.276432,-2.848643,6.5162296,10.439368,17.955065,-12.094362,1.2558184,37.30675,-39.80517,-10.902705,-9.328254,3.397551,5.537969,27.93752,-10.029039,8.26018,-16.559008,-31.017118,-1.178475,25.924492,28.619413,27.265078,-30.462769,19.874449,-28.743393,-0.1576019,-5.25636,-22.951597,19.433132,-3.777796,11.540671,-14.193221,11.276369,-27.10834,9.884168,15.95572,-9.667527,9.161964,16.413778,38.35134,23.182842,14.488821,10.526724,11.157488,-16.720613,-19.135729,40.285065,-20.867756,-19.33593,18.85801,18.896793,-24.928453,22.845863,17.068146,3.138062,-13.522596,-42.158154,28.568172,12.27478,25.90436,22.324423,7.7195144,-20.114307,-26.264236,13.691007,-42.99014,-8.448212,2.2785783,-13.33397,4.182389,-2.3956432,-38.01159,16.696507,29.889168,-9.651142,-6.9150004,-32.610577,27.40193,-26.076523,32.927727,14.879297,5.708522,-26.696264,-0.6342749,-12.241902,-14.57893,-21.783245,2.3404095,-41.591434,-40.16255,-13.758133,-9.146752,-37.65092,-7.191252,18.37395,10.223443,20.281385,23.895985,25.550274,17.419712,-39.76601,25.709793,8.925098,4.67348,-13.9563465,19.49901,31.503054,-37.53297,22.01311,-27.601967,-24.238686,37.416145,-22.282204,-13.738689,-20.31052,-30.071749,18.28209,10.250535,5.4389405,7.735651,-1.2868011,31.390493,-39.243023,16.450018,-5.8526053,-14.393793,12.063092,25.602667,-20.445621,-17.416515,12.217914,-12.694144,26.344837,-11.291321,-31.001884,22.295744,17.233704,-1.8890216,13.937444,-33.109356,-29.846449,0.21884498,-15.559422,-18.43136,-30.442766,13.425358,-34.00506,13.656731,7.325706,7.327303,14.928204,33.305973,35.79519,-13.003297,20.273676,-15.869192,13.244229,-7.2189937,-28.684145,-21.168997],\"type\":\"scatter3d\"}],                        {\"template\":{\"data\":{\"histogram2dcontour\":[{\"type\":\"histogram2dcontour\",\"colorbar\":{\"outlinewidth\":0,\"ticks\":\"\"},\"colorscale\":[[0.0,\"#0d0887\"],[0.1111111111111111,\"#46039f\"],[0.2222222222222222,\"#7201a8\"],[0.3333333333333333,\"#9c179e\"],[0.4444444444444444,\"#bd3786\"],[0.5555555555555556,\"#d8576b\"],[0.6666666666666666,\"#ed7953\"],[0.7777777777777778,\"#fb9f3a\"],[0.8888888888888888,\"#fdca26\"],[1.0,\"#f0f921\"]]}],\"choropleth\":[{\"type\":\"choropleth\",\"colorbar\":{\"outlinewidth\":0,\"ticks\":\"\"}}],\"histogram2d\":[{\"type\":\"histogram2d\",\"colorbar\":{\"outlinewidth\":0,\"ticks\":\"\"},\"colorscale\":[[0.0,\"#0d0887\"],[0.1111111111111111,\"#46039f\"],[0.2222222222222222,\"#7201a8\"],[0.3333333333333333,\"#9c179e\"],[0.4444444444444444,\"#bd3786\"],[0.5555555555555556,\"#d8576b\"],[0.6666666666666666,\"#ed7953\"],[0.7777777777777778,\"#fb9f3a\"],[0.8888888888888888,\"#fdca26\"],[1.0,\"#f0f921\"]]}],\"heatmap\":[{\"type\":\"heatmap\",\"colorbar\":{\"outlinewidth\":0,\"ticks\":\"\"},\"colorscale\":[[0.0,\"#0d0887\"],[0.1111111111111111,\"#46039f\"],[0.2222222222222222,\"#7201a8\"],[0.3333333333333333,\"#9c179e\"],[0.4444444444444444,\"#bd3786\"],[0.5555555555555556,\"#d8576b\"],[0.6666666666666666,\"#ed7953\"],[0.7777777777777778,\"#fb9f3a\"],[0.8888888888888888,\"#fdca26\"],[1.0,\"#f0f921\"]]}],\"heatmapgl\":[{\"type\":\"heatmapgl\",\"colorbar\":{\"outlinewidth\":0,\"ticks\":\"\"},\"colorscale\":[[0.0,\"#0d0887\"],[0.1111111111111111,\"#46039f\"],[0.2222222222222222,\"#7201a8\"],[0.3333333333333333,\"#9c179e\"],[0.4444444444444444,\"#bd3786\"],[0.5555555555555556,\"#d8576b\"],[0.6666666666666666,\"#ed7953\"],[0.7777777777777778,\"#fb9f3a\"],[0.8888888888888888,\"#fdca26\"],[1.0,\"#f0f921\"]]}],\"contourcarpet\":[{\"type\":\"contourcarpet\",\"colorbar\":{\"outlinewidth\":0,\"ticks\":\"\"}}],\"contour\":[{\"type\":\"contour\",\"colorbar\":{\"outlinewidth\":0,\"ticks\":\"\"},\"colorscale\":[[0.0,\"#0d0887\"],[0.1111111111111111,\"#46039f\"],[0.2222222222222222,\"#7201a8\"],[0.3333333333333333,\"#9c179e\"],[0.4444444444444444,\"#bd3786\"],[0.5555555555555556,\"#d8576b\"],[0.6666666666666666,\"#ed7953\"],[0.7777777777777778,\"#fb9f3a\"],[0.8888888888888888,\"#fdca26\"],[1.0,\"#f0f921\"]]}],\"surface\":[{\"type\":\"surface\",\"colorbar\":{\"outlinewidth\":0,\"ticks\":\"\"},\"colorscale\":[[0.0,\"#0d0887\"],[0.1111111111111111,\"#46039f\"],[0.2222222222222222,\"#7201a8\"],[0.3333333333333333,\"#9c179e\"],[0.4444444444444444,\"#bd3786\"],[0.5555555555555556,\"#d8576b\"],[0.6666666666666666,\"#ed7953\"],[0.7777777777777778,\"#fb9f3a\"],[0.8888888888888888,\"#fdca26\"],[1.0,\"#f0f921\"]]}],\"mesh3d\":[{\"type\":\"mesh3d\",\"colorbar\":{\"outlinewidth\":0,\"ticks\":\"\"}}],\"scatter\":[{\"fillpattern\":{\"fillmode\":\"overlay\",\"size\":10,\"solidity\":0.2},\"type\":\"scatter\"}],\"parcoords\":[{\"type\":\"parcoords\",\"line\":{\"colorbar\":{\"outlinewidth\":0,\"ticks\":\"\"}}}],\"scatterpolargl\":[{\"type\":\"scatterpolargl\",\"marker\":{\"colorbar\":{\"outlinewidth\":0,\"ticks\":\"\"}}}],\"bar\":[{\"error_x\":{\"color\":\"#2a3f5f\"},\"error_y\":{\"color\":\"#2a3f5f\"},\"marker\":{\"line\":{\"color\":\"#E5ECF6\",\"width\":0.5},\"pattern\":{\"fillmode\":\"overlay\",\"size\":10,\"solidity\":0.2}},\"type\":\"bar\"}],\"scattergeo\":[{\"type\":\"scattergeo\",\"marker\":{\"colorbar\":{\"outlinewidth\":0,\"ticks\":\"\"}}}],\"scatterpolar\":[{\"type\":\"scatterpolar\",\"marker\":{\"colorbar\":{\"outlinewidth\":0,\"ticks\":\"\"}}}],\"histogram\":[{\"marker\":{\"pattern\":{\"fillmode\":\"overlay\",\"size\":10,\"solidity\":0.2}},\"type\":\"histogram\"}],\"scattergl\":[{\"type\":\"scattergl\",\"marker\":{\"colorbar\":{\"outlinewidth\":0,\"ticks\":\"\"}}}],\"scatter3d\":[{\"type\":\"scatter3d\",\"line\":{\"colorbar\":{\"outlinewidth\":0,\"ticks\":\"\"}},\"marker\":{\"colorbar\":{\"outlinewidth\":0,\"ticks\":\"\"}}}],\"scattermapbox\":[{\"type\":\"scattermapbox\",\"marker\":{\"colorbar\":{\"outlinewidth\":0,\"ticks\":\"\"}}}],\"scatterternary\":[{\"type\":\"scatterternary\",\"marker\":{\"colorbar\":{\"outlinewidth\":0,\"ticks\":\"\"}}}],\"scattercarpet\":[{\"type\":\"scattercarpet\",\"marker\":{\"colorbar\":{\"outlinewidth\":0,\"ticks\":\"\"}}}],\"carpet\":[{\"aaxis\":{\"endlinecolor\":\"#2a3f5f\",\"gridcolor\":\"white\",\"linecolor\":\"white\",\"minorgridcolor\":\"white\",\"startlinecolor\":\"#2a3f5f\"},\"baxis\":{\"endlinecolor\":\"#2a3f5f\",\"gridcolor\":\"white\",\"linecolor\":\"white\",\"minorgridcolor\":\"white\",\"startlinecolor\":\"#2a3f5f\"},\"type\":\"carpet\"}],\"table\":[{\"cells\":{\"fill\":{\"color\":\"#EBF0F8\"},\"line\":{\"color\":\"white\"}},\"header\":{\"fill\":{\"color\":\"#C8D4E3\"},\"line\":{\"color\":\"white\"}},\"type\":\"table\"}],\"barpolar\":[{\"marker\":{\"line\":{\"color\":\"#E5ECF6\",\"width\":0.5},\"pattern\":{\"fillmode\":\"overlay\",\"size\":10,\"solidity\":0.2}},\"type\":\"barpolar\"}],\"pie\":[{\"automargin\":true,\"type\":\"pie\"}]},\"layout\":{\"autotypenumbers\":\"strict\",\"colorway\":[\"#636efa\",\"#EF553B\",\"#00cc96\",\"#ab63fa\",\"#FFA15A\",\"#19d3f3\",\"#FF6692\",\"#B6E880\",\"#FF97FF\",\"#FECB52\"],\"font\":{\"color\":\"#2a3f5f\"},\"hovermode\":\"closest\",\"hoverlabel\":{\"align\":\"left\"},\"paper_bgcolor\":\"white\",\"plot_bgcolor\":\"#E5ECF6\",\"polar\":{\"bgcolor\":\"#E5ECF6\",\"angularaxis\":{\"gridcolor\":\"white\",\"linecolor\":\"white\",\"ticks\":\"\"},\"radialaxis\":{\"gridcolor\":\"white\",\"linecolor\":\"white\",\"ticks\":\"\"}},\"ternary\":{\"bgcolor\":\"#E5ECF6\",\"aaxis\":{\"gridcolor\":\"white\",\"linecolor\":\"white\",\"ticks\":\"\"},\"baxis\":{\"gridcolor\":\"white\",\"linecolor\":\"white\",\"ticks\":\"\"},\"caxis\":{\"gridcolor\":\"white\",\"linecolor\":\"white\",\"ticks\":\"\"}},\"coloraxis\":{\"colorbar\":{\"outlinewidth\":0,\"ticks\":\"\"}},\"colorscale\":{\"sequential\":[[0.0,\"#0d0887\"],[0.1111111111111111,\"#46039f\"],[0.2222222222222222,\"#7201a8\"],[0.3333333333333333,\"#9c179e\"],[0.4444444444444444,\"#bd3786\"],[0.5555555555555556,\"#d8576b\"],[0.6666666666666666,\"#ed7953\"],[0.7777777777777778,\"#fb9f3a\"],[0.8888888888888888,\"#fdca26\"],[1.0,\"#f0f921\"]],\"sequentialminus\":[[0.0,\"#0d0887\"],[0.1111111111111111,\"#46039f\"],[0.2222222222222222,\"#7201a8\"],[0.3333333333333333,\"#9c179e\"],[0.4444444444444444,\"#bd3786\"],[0.5555555555555556,\"#d8576b\"],[0.6666666666666666,\"#ed7953\"],[0.7777777777777778,\"#fb9f3a\"],[0.8888888888888888,\"#fdca26\"],[1.0,\"#f0f921\"]],\"diverging\":[[0,\"#8e0152\"],[0.1,\"#c51b7d\"],[0.2,\"#de77ae\"],[0.3,\"#f1b6da\"],[0.4,\"#fde0ef\"],[0.5,\"#f7f7f7\"],[0.6,\"#e6f5d0\"],[0.7,\"#b8e186\"],[0.8,\"#7fbc41\"],[0.9,\"#4d9221\"],[1,\"#276419\"]]},\"xaxis\":{\"gridcolor\":\"white\",\"linecolor\":\"white\",\"ticks\":\"\",\"title\":{\"standoff\":15},\"zerolinecolor\":\"white\",\"automargin\":true,\"zerolinewidth\":2},\"yaxis\":{\"gridcolor\":\"white\",\"linecolor\":\"white\",\"ticks\":\"\",\"title\":{\"standoff\":15},\"zerolinecolor\":\"white\",\"automargin\":true,\"zerolinewidth\":2},\"scene\":{\"xaxis\":{\"backgroundcolor\":\"#E5ECF6\",\"gridcolor\":\"white\",\"linecolor\":\"white\",\"showbackground\":true,\"ticks\":\"\",\"zerolinecolor\":\"white\",\"gridwidth\":2},\"yaxis\":{\"backgroundcolor\":\"#E5ECF6\",\"gridcolor\":\"white\",\"linecolor\":\"white\",\"showbackground\":true,\"ticks\":\"\",\"zerolinecolor\":\"white\",\"gridwidth\":2},\"zaxis\":{\"backgroundcolor\":\"#E5ECF6\",\"gridcolor\":\"white\",\"linecolor\":\"white\",\"showbackground\":true,\"ticks\":\"\",\"zerolinecolor\":\"white\",\"gridwidth\":2}},\"shapedefaults\":{\"line\":{\"color\":\"#2a3f5f\"}},\"annotationdefaults\":{\"arrowcolor\":\"#2a3f5f\",\"arrowhead\":0,\"arrowwidth\":1},\"geo\":{\"bgcolor\":\"white\",\"landcolor\":\"#E5ECF6\",\"subunitcolor\":\"white\",\"showland\":true,\"showlakes\":true,\"lakecolor\":\"white\"},\"title\":{\"x\":0.05},\"mapbox\":{\"style\":\"light\"}}},\"scene\":{\"domain\":{\"x\":[0.0,1.0],\"y\":[0.0,1.0]},\"xaxis\":{\"title\":{\"text\":\"x\"}},\"yaxis\":{\"title\":{\"text\":\"y\"}},\"zaxis\":{\"title\":{\"text\":\"z\"}}},\"legend\":{\"tracegroupgap\":0},\"margin\":{\"t\":60}},                        {\"responsive\": true}                    ).then(function(){\n",
              "                            \n",
              "var gd = document.getElementById('1841e817-250b-46f7-93ba-db8e66af5fd2');\n",
              "var x = new MutationObserver(function (mutations, observer) {{\n",
              "        var display = window.getComputedStyle(gd).display;\n",
              "        if (!display || display === 'none') {{\n",
              "            console.log([gd, 'removed!']);\n",
              "            Plotly.purge(gd);\n",
              "            observer.disconnect();\n",
              "        }}\n",
              "}});\n",
              "\n",
              "// Listen for the removal of the full notebook cells\n",
              "var notebookContainer = gd.closest('#notebook-container');\n",
              "if (notebookContainer) {{\n",
              "    x.observe(notebookContainer, {childList: true});\n",
              "}}\n",
              "\n",
              "// Listen for the clearing of the current output cell\n",
              "var outputEl = gd.closest('.output');\n",
              "if (outputEl) {{\n",
              "    x.observe(outputEl, {childList: true});\n",
              "}}\n",
              "\n",
              "                        })                };                            </script>        </div>\n",
              "</body>\n",
              "</html>"
            ]
          },
          "metadata": {}
        }
      ],
      "source": [
        "from sklearn.decomposition import IncrementalPCA\n",
        "from sklearn.manifold import TSNE\n",
        "import numpy as np\n",
        "import plotly.graph_objects as go\n",
        "import plotly.express as px\n",
        "\n",
        "\n",
        "def reduce_dimensions(model, num_dimensions = 2 ):\n",
        "\n",
        "    vectors = np.asarray(model.wv.vectors)\n",
        "    labels = np.asarray(model.wv.index_to_key)\n",
        "\n",
        "    tsne = TSNE(n_components=num_dimensions, random_state=0)\n",
        "    vectors = tsne.fit_transform(vectors)\n",
        "\n",
        "    return vectors, labels\n",
        "\n",
        "\n",
        "vecs, labels = reduce_dimensions(w2v_model,3)\n",
        "\n",
        "MAX_WORDS=200\n",
        "fig = px.scatter_3d(x=vecs[:MAX_WORDS,0], y=vecs[:MAX_WORDS,1], z=vecs[:MAX_WORDS,2],text=labels[:MAX_WORDS])\n",
        "fig.update_traces(marker_size = 2)\n",
        "fig.show(renderer=\"colab\")"
      ]
    },
    {
      "cell_type": "code",
      "source": [
        "print(\"Cantidad de documentos:\", df.shape[0])"
      ],
      "metadata": {
        "colab": {
          "base_uri": "https://localhost:8080/"
        },
        "id": "eWXsYnNnKXhQ",
        "outputId": "448c48bc-8447-4991-8ec1-de00b4e590da"
      },
      "execution_count": 58,
      "outputs": [
        {
          "output_type": "stream",
          "name": "stdout",
          "text": [
            "Cantidad de documentos: 2218\n"
          ]
        }
      ]
    },
    {
      "cell_type": "markdown",
      "metadata": {
        "id": "WivQZ3ZCZ9N_"
      },
      "source": [
        "### Como conclusión, en la representación tSNE las palabras se agrupan principalmente por co-ocurrencia en las canciones, como \"movement\", \"of\", \"jah\", \"people\" o \"dont\", \"worry\", \"about\", \"thing\" que aparecen juntas en los títulos. Esto probablemente se debe al corpus pequeño de 2218 versos, que hace que los embeddings aprendan más patrones de frases repetidas que relaciones semánticas reales. Con más datos, el modelo capturaría mejor las asociaciones conceptuales en lugar de memorizar fragmentos de canciones."
      ]
    }
  ],
  "metadata": {
    "colab": {
      "provenance": []
    },
    "kernelspec": {
      "display_name": "Python 3 (ipykernel)",
      "language": "python",
      "name": "python3"
    },
    "language_info": {
      "codemirror_mode": {
        "name": "ipython",
        "version": 3
      },
      "file_extension": ".py",
      "mimetype": "text/x-python",
      "name": "python",
      "nbconvert_exporter": "python",
      "pygments_lexer": "ipython3",
      "version": "3.10.6"
    }
  },
  "nbformat": 4,
  "nbformat_minor": 0
}